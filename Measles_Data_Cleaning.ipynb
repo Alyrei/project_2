{
 "cells": [
  {
   "cell_type": "code",
   "execution_count": 1,
   "metadata": {},
   "outputs": [],
   "source": [
    "# Dependencies and Setup\n",
    "import pandas as pd\n",
    "from sqlalchemy import create_engine\n",
    "import numpy as np\n",
    "import config\n",
    "\n",
    "# File to Load \n",
    "vaccination_data= \"Raw Data/Measle Vaccination.csv\"\n",
    "cases_data = \"Raw Data/Measle Cases.csv\"\n",
    "\n",
    "# Read Vaccination and Case Data File and store into Pandas Data Frames\n",
    "vaccination = pd.read_csv(vaccination_data)\n",
    "cases = pd.read_csv(cases_data)"
   ]
  },
  {
   "cell_type": "code",
   "execution_count": 21,
   "metadata": {},
   "outputs": [],
   "source": [
    "# Clean data sets and create dataframes\n",
    "vaccination_df = pd.DataFrame(vaccination)\n",
    "vaccination_df\n",
    "# Remove uneccessary columns\n",
    "vaccination_df.drop(['INDICATOR','SUBJECT', 'MEASURE', 'FREQUENCY', 'Flag Codes'], axis=1, inplace=True)\n",
    "\n",
    "# Rename column titles\n",
    "vaccination_df.rename(columns={'LOCATION':'Country', 'TIME':'Year', 'Value':'Measle_Vaccinated_Rate'}, inplace=True)\n",
    "measles_vaccination_df = vaccination_df"
   ]
  },
  {
   "cell_type": "code",
   "execution_count": 19,
   "metadata": {},
   "outputs": [
    {
     "data": {
      "text/html": [
       "<div>\n",
       "<style scoped>\n",
       "    .dataframe tbody tr th:only-of-type {\n",
       "        vertical-align: middle;\n",
       "    }\n",
       "\n",
       "    .dataframe tbody tr th {\n",
       "        vertical-align: top;\n",
       "    }\n",
       "\n",
       "    .dataframe thead th {\n",
       "        text-align: right;\n",
       "    }\n",
       "</style>\n",
       "<table border=\"1\" class=\"dataframe\">\n",
       "  <thead>\n",
       "    <tr style=\"text-align: right;\">\n",
       "      <th></th>\n",
       "      <th>Country</th>\n",
       "      <th>Year</th>\n",
       "      <th>Total_Measle_Cases</th>\n",
       "    </tr>\n",
       "  </thead>\n",
       "  <tbody>\n",
       "    <tr>\n",
       "      <th>0</th>\n",
       "      <td>Angola</td>\n",
       "      <td>2011</td>\n",
       "      <td>175</td>\n",
       "    </tr>\n",
       "    <tr>\n",
       "      <th>1</th>\n",
       "      <td>Angola</td>\n",
       "      <td>2012</td>\n",
       "      <td>4097</td>\n",
       "    </tr>\n",
       "    <tr>\n",
       "      <th>2</th>\n",
       "      <td>Angola</td>\n",
       "      <td>2013</td>\n",
       "      <td>5839</td>\n",
       "    </tr>\n",
       "    <tr>\n",
       "      <th>3</th>\n",
       "      <td>Angola</td>\n",
       "      <td>2014</td>\n",
       "      <td>10841</td>\n",
       "    </tr>\n",
       "    <tr>\n",
       "      <th>4</th>\n",
       "      <td>Angola</td>\n",
       "      <td>2015</td>\n",
       "      <td>99</td>\n",
       "    </tr>\n",
       "  </tbody>\n",
       "</table>\n",
       "</div>"
      ],
      "text/plain": [
       "  Country  Year Total_Measle_Cases\n",
       "0  Angola  2011                175\n",
       "1  Angola  2012               4097\n",
       "2  Angola  2013               5839\n",
       "3  Angola  2014              10841\n",
       "4  Angola  2015                 99"
      ]
     },
     "execution_count": 19,
     "metadata": {},
     "output_type": "execute_result"
    }
   ],
   "source": [
    "# Clean data sets and create dataframes\n",
    "cases_df = pd.DataFrame(cases)\n",
    "\n",
    "# Replace NaN with a value of zero\n",
    "cases_df.fillna(0)\n",
    "cases_df.drop(['Region', 'ISO3'], axis=1, inplace=True)\n",
    "\n",
    "# Create a 'Total Measle Cases' column that sums up the number of cases throughout the year\n",
    "cases_df['Total_Measle_Cases']= cases_df.values[:,3:14].sum(axis=1)\n",
    "\n",
    "# Drop uneccessary columns\n",
    "cases_df.drop(['January','February','March','April','May','June','July','August','September','October','November','December'],axis=1, inplace=True)\n",
    "measles_cases_df = cases_df\n",
    "measles_cases_df.head()"
   ]
  },
  {
   "cell_type": "code",
   "execution_count": 24,
   "metadata": {},
   "outputs": [],
   "source": [
    "# Connect to engine\n",
    "connection_string = f'{config.user}:{config.pw}@localhost:5432/Project_2'\n",
    "engine = create_engine(f'postgresql://{connection_string}')"
   ]
  },
  {
   "cell_type": "code",
   "execution_count": 26,
   "metadata": {},
   "outputs": [],
   "source": [
    "#Import into postgres\n",
    "measles_vaccination_df.to_sql(name='measles_vaccination', con=engine, if_exists='append', index=False)\n",
    "measles_cases_df.to_sql(name='measles_cases', con=engine, if_exists='append', index=False)"
   ]
  },
  {
   "cell_type": "code",
   "execution_count": 27,
   "metadata": {},
   "outputs": [
    {
     "data": {
      "text/plain": [
       "['polio_vaccination', 'polio_cases', 'measles_vaccination', 'measles_cases']"
      ]
     },
     "execution_count": 27,
     "metadata": {},
     "output_type": "execute_result"
    }
   ],
   "source": [
    "#check to make sure properly import into postgres\n",
    "engine.table_names()"
   ]
  },
  {
   "cell_type": "code",
   "execution_count": null,
   "metadata": {},
   "outputs": [],
   "source": []
  }
 ],
 "metadata": {
  "kernelspec": {
   "display_name": "Python 3",
   "language": "python",
   "name": "python3"
  },
  "language_info": {
   "codemirror_mode": {
    "name": "ipython",
    "version": 3
   },
   "file_extension": ".py",
   "mimetype": "text/x-python",
   "name": "python",
   "nbconvert_exporter": "python",
   "pygments_lexer": "ipython3",
   "version": "3.6.8"
  }
 },
 "nbformat": 4,
 "nbformat_minor": 2
}
